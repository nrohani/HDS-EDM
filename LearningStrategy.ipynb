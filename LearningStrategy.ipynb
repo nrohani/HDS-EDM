#Import packages
import pandas as pd
import numpy as np
from os import listdir
import os
import glob
import matplotlib.pyplot as plt
import math
import matplotlib
import seaborn as sns
import re
from datetime import datetime
from sklearn.preprocessing import scale
import statistics
from sklearn.cluster import KMeans
import sklearn
import warnings
import pandas as pd
warnings.filterwarnings('ignore')
#Header of click-stream data
col_names = [
    'user_id',
    'hashed_session_cookie_id',
    'server_timestamp',
    'hashed_ip',
    'user_agent',
    'url',
    'initial_referred_url',
    'browser_language',
    'course_id',
    'country_cd',
    'region_cd',
    'timezone',
    'os',
    'browser',
    'key',
    'value'
]
#Change this variable 
CourseName='DSM'

