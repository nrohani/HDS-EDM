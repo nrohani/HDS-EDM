{
 "cells": [
  {
   "cell_type": "code",
   "execution_count": null,
   "id": "01ea725f",
   "metadata": {},
   "outputs": [],
   "source": [
    "#Import packages\n",
    "import pandas as pd\n",
    "import numpy as np\n",
    "from os import listdir\n",
    "import os\n",
    "import glob\n",
    "import matplotlib.pyplot as plt\n",
    "import math\n",
    "import matplotlib\n",
    "import seaborn as sns\n",
    "import re\n",
    "from datetime import datetime\n",
    "from sklearn.preprocessing import scale\n",
    "import statistics\n",
    "from sklearn.cluster import KMeans\n",
    "import sklearn\n",
    "import warnings\n",
    "import pandas as pd\n",
    "from sklearn.preprocessing import StandardScaler\n",
    "import scipy.cluster.hierarchy as shc\n",
    "\n",
    "warnings.filterwarnings('ignore')\n"
   ]
  },
  {
   "cell_type": "code",
   "execution_count": null,
   "id": "31530aa8",
   "metadata": {},
   "outputs": [],
   "source": [
    "#Load your data named Data contains all users actions\n",
    "Data=pd.read_csv('Address//data.scv')"
   ]
  },
  {
   "cell_type": "code",
   "execution_count": null,
   "id": "e7ec0129",
   "metadata": {},
   "outputs": [],
   "source": [
    "#Loading the output of the R code and calculate frequency of using each learning tactic by each student.\n",
    "#Before calculating the frequency we merged the total data with the output of the R code\n",
    "clusterRes=pd.read_csv('LearningTacticsClusters.csv')\n",
    "MergedData=Data.merge(clusterRes.reset_index(),left_on='ID', right_on='ID')\n"
   ]
  },
  {
   "cell_type": "code",
   "execution_count": null,
   "id": "65011d61",
   "metadata": {},
   "outputs": [],
   "source": [
    "temp=MergedData.sort_values(by=['ID', 'time']).groupby(['ID'])['action'].apply(lambda x : '/'.join(x)).reset_index()\n",
    "clusterRes=Merged.drop_duplicates(subset=['ID','user_id'])\n",
    "clusterRes=clusterRes.merge(tem,left_on='ID', right_on='ID')"
   ]
  },
  {
   "cell_type": "code",
   "execution_count": null,
   "id": "4f7559df",
   "metadata": {},
   "outputs": [],
   "source": [
    "clusterRes.to_csv('seqDSMFinal.csv') "
   ]
  },
  {
   "cell_type": "code",
   "execution_count": null,
   "id": "f6c3c125",
   "metadata": {},
   "outputs": [],
   "source": [
    "FrequencyData=MergedData.drop_duplicates(subset=['ID', 'user_id'], keep='last').groupby('user_id')['cluster'].value_counts() "
   ]
  },
  {
   "cell_type": "code",
   "execution_count": null,
   "id": "0b9807de",
   "metadata": {},
   "outputs": [],
   "source": [
    "temp=pd.DataFrame(FrequencyData)\n",
    "temp['Count']=temp.cluster\n",
    "temp=temp[['Count']].reset_index()\n",
    "FrequencyData=temp"
   ]
  },
  {
   "cell_type": "code",
   "execution_count": null,
   "id": "3e9d5728",
   "metadata": {},
   "outputs": [],
   "source": [
    "FrequencyData=FrequencyData[FrequencyData['user_id'].isin((FrequencyData['user_id'].value_counts()>0)[(FrequencyData['user_id'].value_counts()>0).values==True].index)] "
   ]
  },
  {
   "cell_type": "code",
   "execution_count": null,
   "id": "d122dac7",
   "metadata": {},
   "outputs": [],
   "source": [
    "FrequencyData['NumberOfSessions']=FrequencyData['user_id'].apply( lambda x: FrequencyData[FrequencyData.user_id==x].count())['Count'] "
   ]
  },
  {
   "cell_type": "code",
   "execution_count": null,
   "id": "6f505745",
   "metadata": {},
   "outputs": [],
   "source": [
    "FrequencyData=FrequencyData[FrequencyData.NumberOfSessions>1] "
   ]
  },
  {
   "cell_type": "code",
   "execution_count": null,
   "id": "905a048c",
   "metadata": {},
   "outputs": [],
   "source": [
    "#Normalising the data and creating dendrogram to decide about number of clusters"
   ]
  },
  {
   "cell_type": "code",
   "execution_count": null,
   "id": "0bc8eda7",
   "metadata": {},
   "outputs": [],
   "source": [
    "Data=FrequencyData.drop('NumberOfSessions', axis=1)\n",
    "df=Data.pivot(index='user_id',columns='cluster',values='Count').fillna(0)\n",
    "X=StandardScaler().fit_transform(df)\n",
    "plt.figure(figsize=(6, 6))  \n",
    "plt.title(\"Dendrograms\")  \n",
    "dend = shc.dendrogram(shc.linkage(X, method='ward'),color_threshold=60)"
   ]
  },
  {
   "cell_type": "code",
   "execution_count": null,
   "id": "91d627a4",
   "metadata": {},
   "outputs": [],
   "source": [
    "#Clustering students into 3 clusters and saving the output"
   ]
  },
  {
   "cell_type": "code",
   "execution_count": null,
   "id": "b333bcb8",
   "metadata": {},
   "outputs": [],
   "source": [
    "from sklearn.cluster import AgglomerativeClustering\n",
    "agg_clustering = AgglomerativeClustering(n_clusters = 3, affinity = 'euclidean', linkage = 'ward')\n",
    "labels = agg_clustering.fit_predict(X)\n",
    "pd.DataFrame(labels).value_counts()/pd.DataFrame(labels).value_counts().sum()"
   ]
  },
  {
   "cell_type": "code",
   "execution_count": null,
   "id": "992731a1",
   "metadata": {},
   "outputs": [],
   "source": [
    "df['Strategy']=labels\n",
    "df.to_csv('userStrategylist.csv') "
   ]
  }
 ],
 "metadata": {
  "kernelspec": {
   "display_name": "Python 3 (ipykernel)",
   "language": "python",
   "name": "python3"
  },
  "language_info": {
   "codemirror_mode": {
    "name": "ipython",
    "version": 3
   },
   "file_extension": ".py",
   "mimetype": "text/x-python",
   "name": "python",
   "nbconvert_exporter": "python",
   "pygments_lexer": "ipython3",
   "version": "3.9.7"
  }
 },
 "nbformat": 4,
 "nbformat_minor": 5
}
